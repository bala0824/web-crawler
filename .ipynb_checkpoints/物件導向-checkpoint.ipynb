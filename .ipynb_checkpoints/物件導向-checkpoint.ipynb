{
 "cells": [
  {
   "cell_type": "code",
   "execution_count": null,
   "id": "87e20e61-173c-45f3-83ea-a37c04f2ee51",
   "metadata": {},
   "outputs": [],
   "source": [
    "class frame : #創建類別\n",
    "    def __init__(self): #初始化\n",
    "        print(\"\")\n",
    "    def prin(self): #創建方法\n",
    "        print(\"\")\n",
    "\n",
    "frame = frame1() #創建物件\n",
    "frame.prin() #使用方法"
   ]
  },
  {
   "cell_type": "code",
   "execution_count": 2,
   "id": "e2d73560-4213-4a5f-831a-468e88bfab0e",
   "metadata": {
    "tags": []
   },
   "outputs": [
    {
     "name": "stdout",
     "output_type": "stream",
     "text": [
      "hello world\n"
     ]
    }
   ],
   "source": [
    "class other:\n",
    "    def other2(): #self : 沒有self代表other不屬於other class\n",
    "        print(\"hello world\")\n",
    "\n",
    "o = other()\n",
    "o.other2()"
   ]
  },
  {
   "cell_type": "code",
   "execution_count": 2,
   "id": "a5172613-e098-458d-b39d-abf0215c0322",
   "metadata": {
    "collapsed": true,
    "jupyter": {
     "outputs_hidden": true
    },
    "tags": []
   },
   "outputs": [
    {
     "ename": "UnboundLocalError",
     "evalue": "cannot access local variable 'student_num' where it is not associated with a value",
     "output_type": "error",
     "traceback": [
      "\u001b[1;31m---------------------------------------------------------------------------\u001b[0m",
      "\u001b[1;31mUnboundLocalError\u001b[0m                         Traceback (most recent call last)",
      "Cell \u001b[1;32mIn[2], line 8\u001b[0m\n\u001b[0;32m      5\u001b[0m     \u001b[38;5;28;01mdef\u001b[39;00m \u001b[38;5;21mstudent_show\u001b[39m(\u001b[38;5;28mself\u001b[39m):\n\u001b[0;32m      6\u001b[0m         \u001b[38;5;28mprint\u001b[39m(student_sum)\n\u001b[1;32m----> 8\u001b[0m s1 \u001b[38;5;241m=\u001b[39m student()\n",
      "Cell \u001b[1;32mIn[2], line 4\u001b[0m, in \u001b[0;36mstudent.__init__\u001b[1;34m(self)\u001b[0m\n\u001b[0;32m      3\u001b[0m \u001b[38;5;28;01mdef\u001b[39;00m \u001b[38;5;21m__init__\u001b[39m(\u001b[38;5;28mself\u001b[39m):\n\u001b[1;32m----> 4\u001b[0m     student_num \u001b[38;5;241m+\u001b[39m\u001b[38;5;241m=\u001b[39m \u001b[38;5;241m1\u001b[39m\n",
      "\u001b[1;31mUnboundLocalError\u001b[0m: cannot access local variable 'student_num' where it is not associated with a value"
     ]
    }
   ],
   "source": [
    "class student:\n",
    "    student_num = 0 #不希望能用類別改此變數\n",
    "    def __init__(self):\n",
    "        student_num += 1 #student.student_num += 1\n",
    "    def student_show(self):\n",
    "        print(student_sum) #print(student.student_num)\n",
    "        \n",
    "s1 = student()"
   ]
  },
  {
   "cell_type": "code",
   "execution_count": 25,
   "id": "649f31e7-3bd2-463a-b0d7-a46e17fd58ad",
   "metadata": {
    "tags": []
   },
   "outputs": [
    {
     "name": "stdout",
     "output_type": "stream",
     "text": [
      "1\n"
     ]
    }
   ],
   "source": [
    "class student:\n",
    "    student_num = 0 \n",
    "    def __init__(self):\n",
    "        self.__class__.student_num += 1 #self.__class__.<該物件屬性> 更改類別屬性\n",
    "        self.student_show()\n",
    "    def student_show(self):\n",
    "        print(self.__class__.student_num)\n",
    "        \n",
    "s1 = student()"
   ]
  },
  {
   "cell_type": "markdown",
   "id": "6bb653b4-fbf5-48fb-a1fb-5f041386f234",
   "metadata": {
    "tags": []
   },
   "source": [
    "## 父類別、子類別"
   ]
  },
  {
   "cell_type": "code",
   "execution_count": null,
   "id": "b497573c-fb71-47bd-9529-61dc72e9d5dc",
   "metadata": {},
   "outputs": [],
   "source": [
    "class BaseClassName():\n",
    "    父類別屬性方法\n",
    "class childClassName(BaseVlassName): #繼承父類別屬性和方法\n",
    "    子類別屬性方法"
   ]
  },
  {
   "cell_type": "code",
   "execution_count": 3,
   "id": "ae74bfc7-e6a9-439e-8aab-bc9c91930465",
   "metadata": {
    "tags": []
   },
   "outputs": [
    {
     "name": "stdout",
     "output_type": "stream",
     "text": [
      "豬很會飛\n",
      "粉紅色小鸚鵡很會飛\n",
      "粉紅色小鸚鵡也愛唱歌\n"
     ]
    }
   ],
   "source": [
    "class animal(): #父類別\n",
    "    def __init__(self,name):\n",
    "        self.name = name\n",
    "    def fly(self):\n",
    "        print(self.name + (\"很會飛\"))\n",
    "class bird(animal): #子類別\n",
    "    def __init__(self,name): #覆寫父類別的建構式\n",
    "        self.name = \"粉紅色\" + name\n",
    "    def sing(self):\n",
    "        print(self.name+\"也愛唱歌\")\n",
    "\n",
    "pig = animal(\"豬\")\n",
    "pig.fly()\n",
    "\n",
    "parrot = bird(\"小鸚鵡\")\n",
    "parrot.fly()\n",
    "parrot.sing()"
   ]
  },
  {
   "cell_type": "code",
   "execution_count": 5,
   "id": "451575da-82f7-4013-b8ec-7e022a99689e",
   "metadata": {
    "tags": []
   },
   "outputs": [
    {
     "name": "stdout",
     "output_type": "stream",
     "text": [
      "父類別台中市\n",
      "子類別台中市\n"
     ]
    }
   ],
   "source": [
    "class father():\n",
    "    def __init__(self):\n",
    "        self.__address = \"台中市\" #__代表父類別屬性公開\n",
    "    def datareturn(self):\n",
    "        return self.__address\n",
    "class son(father):\n",
    "    pass\n",
    "hung = father()\n",
    "ivan = son()\n",
    "print(\"父類別\" + hung.datareturn())\n",
    "print(\"子類別\" + ivan.datareturn())"
   ]
  },
  {
   "cell_type": "markdown",
   "id": "f822b291-491f-4af0-bc8a-3bb64999e177",
   "metadata": {},
   "source": [
    "## 模組&套件"
   ]
  },
  {
   "cell_type": "code",
   "execution_count": 1,
   "id": "2cdf7c16-76ac-4994-86c8-88cb895063c4",
   "metadata": {
    "collapsed": true,
    "jupyter": {
     "outputs_hidden": true
    },
    "tags": []
   },
   "outputs": [
    {
     "name": "stdout",
     "output_type": "stream",
     "text": [
      "這個冰淇淋所加配料如下\n",
      "-- 草莓醬\n",
      "這個冰淇淋所加配料如下\n",
      "-- 草莓醬\n",
      "-- 葡萄乾\n",
      "-- 巧克力碎片\n",
      "所點飲料如下\n",
      "-- Large\n",
      "-- Coke\n"
     ]
    }
   ],
   "source": [
    "#檔案名 makefood.py\n",
    "def make_icecream(*toppings):\n",
    "    print(\"這個冰淇淋所加配料如下\")\n",
    "    for topping in toppings:\n",
    "        print(\"--\",topping)\n",
    "        \n",
    "def make_drink(size,drink):\n",
    "    print(\"所點飲料如下\")\n",
    "    print(\"--\",size.title())\n",
    "    print(\"--\",drink.title())\n",
    "\n",
    "make_icecream(\"草莓醬\")\n",
    "make_icecream(\"草莓醬\",\"葡萄乾\",\"巧克力碎片\")\n",
    "make_drink('large','coke')"
   ]
  },
  {
   "cell_type": "code",
   "execution_count": null,
   "id": "e4541441-2db2-40ce-9db0-2d7e85e3a0c6",
   "metadata": {},
   "outputs": [],
   "source": [
    "import makefood # 載入所有函數到記憶體"
   ]
  },
  {
   "cell_type": "code",
   "execution_count": null,
   "id": "a38d63fd-6fa1-41e5-b084-88ca8b96967a",
   "metadata": {},
   "outputs": [],
   "source": [
    "from makefood import make_icecream , make_drink , * # 只載入指定函數 , * = 所有函數"
   ]
  },
  {
   "cell_type": "code",
   "execution_count": null,
   "id": "b7b657ac-fa3b-4b61-a083-7e8f57f3f6d9",
   "metadata": {},
   "outputs": [],
   "source": [
    "from makefood import make_icecream as mkice # 給指定函數替換名稱"
   ]
  },
  {
   "cell_type": "code",
   "execution_count": null,
   "id": "f4234c5c-f821-4b33-98c6-93783db5e2fa",
   "metadata": {},
   "outputs": [],
   "source": [
    "import 1,2,3\n",
    "__all__ = [\"1\",\"2\"] # 沒有3,代表不能使用3這個函數"
   ]
  },
  {
   "cell_type": "markdown",
   "id": "9402a857-2a77-4d21-b09a-c3b03c0cca70",
   "metadata": {},
   "source": [
    "## 例外處理"
   ]
  },
  {
   "cell_type": "code",
   "execution_count": null,
   "id": "655c0528-7c1f-48eb-8924-5c2698d927c8",
   "metadata": {},
   "outputs": [],
   "source": [
    "try:\n",
    "    # 指令\n",
    "except #異常物件:\n",
    "    #異常處理程序\n",
    "else:\n",
    "    #正確處理程序"
   ]
  },
  {
   "cell_type": "code",
   "execution_count": 5,
   "id": "d934f53c-4da5-44ac-8154-939f5be7ecbd",
   "metadata": {
    "tags": []
   },
   "outputs": [
    {
     "name": "stdout",
     "output_type": "stream",
     "text": [
      "5.0\n",
      "除數不可為0\n",
      "None\n",
      "2.0\n"
     ]
    }
   ],
   "source": [
    "def division(x,y):\n",
    "    try:\n",
    "        ans = x / y\n",
    "    except ZeroDivisionError:\n",
    "        print(\"除數不可為0\")\n",
    "    else:\n",
    "        return ans\n",
    "print(division(10,2))\n",
    "print(division(5,0))\n",
    "print(division(6,3))"
   ]
  },
  {
   "cell_type": "code",
   "execution_count": null,
   "id": "a9ec2e9b-f482-4fb2-a279-d3f2eeb66b27",
   "metadata": {},
   "outputs": [],
   "source": [
    "# 捕捉多個異常\n",
    "try:\n",
    "    指令\n",
    "except 異常物件:\n",
    "    異常處理程序\n",
    "except 異常物件2:\n",
    "    異常處理程序2\n",
    "    \n",
    "or\n",
    "\n",
    "try:\n",
    "    指令\n",
    "except (異常物件1,異常物件2:)\n",
    "    異常處理程序"
   ]
  },
  {
   "cell_type": "code",
   "execution_count": 7,
   "id": "54a956f0-5c16-4a82-a19a-c367b9db678a",
   "metadata": {
    "tags": []
   },
   "outputs": [
    {
     "name": "stdout",
     "output_type": "stream",
     "text": [
      "5.0\n",
      "除數為0發生\n",
      "None\n",
      "使用字元做除法運算異常\n",
      "None\n",
      "2.0\n"
     ]
    }
   ],
   "source": [
    "def division(x,y):\n",
    "    try:\n",
    "        return x / y\n",
    "    except ZeroDivisionError:\n",
    "        print(\"除數為0發生\")\n",
    "    except TypeError:\n",
    "        print(\"使用字元做除法運算異常\")\n",
    "print(division(10,2))\n",
    "print(division(5,0))\n",
    "print(division('a','b'))\n",
    "print(division(6,3))"
   ]
  },
  {
   "cell_type": "code",
   "execution_count": null,
   "id": "9e17a1d2-3513-4c3f-87f9-675b12623a1a",
   "metadata": {},
   "outputs": [],
   "source": [
    "# 印出oython內建錯誤訊息\n",
    "except 異常 as e:\n",
    "    print(e)\n",
    "\n",
    "# 捕捉所有異常\n",
    "except:\n",
    "    異常處理程序\n",
    "#不論是否有異常，一定執行finally (須放在excepy,else後面)\n",
    "except:\n",
    "    ...\n",
    "else:\n",
    "    ...\n",
    "finally:\n",
    "    ...\n",
    "raise Exception(\"\") #自定義例外\n",
    "assert 條件,參數 # 若條件錯誤印出AssertError\n"
   ]
  },
  {
   "cell_type": "markdown",
   "id": "09128d1e-69d6-4288-8cc0-e08d3531d9b1",
   "metadata": {},
   "source": [
    "## 函數是物件的一種"
   ]
  },
  {
   "cell_type": "code",
   "execution_count": 6,
   "id": "60ea3244-99e5-4675-994c-a80576190f83",
   "metadata": {
    "collapsed": true,
    "jupyter": {
     "outputs_hidden": true
    },
    "tags": []
   },
   "outputs": [
    {
     "name": "stdout",
     "output_type": "stream",
     "text": [
      "HELLO WORLD\n",
      "HELLO WORLD\n"
     ]
    }
   ],
   "source": [
    "def upperStr(text):\n",
    "    return text.upper() #字母轉大寫\n",
    "\n",
    "print(upperStr('Hello World'))\n",
    "upper = upperStr\n",
    "print(upper('Hello World'))"
   ]
  },
  {
   "cell_type": "code",
   "execution_count": 8,
   "id": "e13f2c22-aef9-4494-92aa-e052f6e9fb74",
   "metadata": {
    "collapsed": true,
    "jupyter": {
     "outputs_hidden": true
    },
    "tags": []
   },
   "outputs": [
    {
     "name": "stdout",
     "output_type": "stream",
     "text": [
      "call it locally\n",
      "cool_func(): Supper Cool\n"
     ]
    }
   ],
   "source": [
    "def cool_func():\n",
    "    print('cool_func(): Supper Cool')\n",
    "if __name__ == '__main__': # 當cool_func是模組時且被import時，將cool_func的主程式執行\n",
    "    print('call it locally')\n",
    "    cool_func()"
   ]
  },
  {
   "cell_type": "markdown",
   "id": "723abc43-5c8b-493b-8e46-d544c7c5d73a",
   "metadata": {},
   "source": [
    "## 函數是串列的元素"
   ]
  },
  {
   "cell_type": "code",
   "execution_count": 15,
   "id": "06e47ae6-d56c-4597-9c9a-fd2928479e8a",
   "metadata": {
    "tags": []
   },
   "outputs": [
    {
     "name": "stdout",
     "output_type": "stream",
     "text": [
      "<built-in function min> 1\n",
      "<built-in function max> 10\n",
      "<built-in function sum> 16\n",
      "<function total at 0x0000029AB797F380> 16\n"
     ]
    }
   ],
   "source": [
    "def total(data):\n",
    "    return sum(data)\n",
    "x = (1,5,10)\n",
    "mylist = [min,max,sum,total]\n",
    "for f in mylist:\n",
    "    print(f,f(x))"
   ]
  },
  {
   "cell_type": "markdown",
   "id": "06ee9636-859d-401f-b223-f2e2b938eeb8",
   "metadata": {},
   "source": [
    "## 函數可以當作參數\n"
   ]
  },
  {
   "cell_type": "code",
   "execution_count": 19,
   "id": "65defb27-ea55-44fa-8626-71353933360a",
   "metadata": {
    "tags": []
   },
   "outputs": [
    {
     "name": "stdout",
     "output_type": "stream",
     "text": [
      "15\n",
      "50\n"
     ]
    }
   ],
   "source": [
    "def add(x,y):\n",
    "    return x + y\n",
    "def mul(x,y):\n",
    "    return x*y\n",
    "def running(func,arg1,arg2):\n",
    "    return func(arg1,arg2)\n",
    "result1 = running(add,5,10)\n",
    "print(result1)\n",
    "result2 = running(mul,5,10)\n",
    "print(result2)"
   ]
  },
  {
   "cell_type": "markdown",
   "id": "27cc7dbb-87ba-4bac-8da7-fd6777a19cff",
   "metadata": {},
   "source": [
    "## 巢狀函數"
   ]
  },
  {
   "cell_type": "code",
   "execution_count": 26,
   "id": "b10b3b2d-1c5d-4b75-8aae-550f9a97a10e",
   "metadata": {
    "tags": []
   },
   "outputs": [
    {
     "name": "stdout",
     "output_type": "stream",
     "text": [
      "1.0\n"
     ]
    }
   ],
   "source": [
    "def my_mean(input_list):\n",
    "    def my_sum(input_list):\n",
    "        temp_sum = 0\n",
    "        for i in input_list:\n",
    "            temp_sum += 1\n",
    "            return temp_sum\n",
    "    def my_length(input_list):\n",
    "        temp_length = 0\n",
    "        for i in input_list:\n",
    "            temp_length += 1\n",
    "            return temp_length\n",
    "    return my_sum(input_list) / my_length(input_list)\n",
    "my_list = [51,8,18,13,6,64]\n",
    "print(my_mean(my_list))\n"
   ]
  },
  {
   "cell_type": "markdown",
   "id": "9c790936-77aa-4b62-b2a4-402824093d65",
   "metadata": {},
   "source": [
    "## 區域變數/全域變數\n"
   ]
  },
  {
   "cell_type": "code",
   "execution_count": null,
   "id": "3eb21899-7027-4fe7-a22b-8040cd125570",
   "metadata": {},
   "outputs": [],
   "source": [
    "global #切換為全域變數\n",
    "nonlocal #非全域也非區域"
   ]
  },
  {
   "cell_type": "markdown",
   "id": "61210969-986f-4b63-a90a-b4f868d0b117",
   "metadata": {},
   "source": [
    "## lambda 匿名函數\n",
    "使用時機 : 節省記憶體,簡潔\n"
   ]
  },
  {
   "cell_type": "code",
   "execution_count": 1,
   "id": "9949554d-2f80-4bfd-9f4b-d308e5577f4c",
   "metadata": {
    "tags": []
   },
   "outputs": [
    {
     "name": "stdout",
     "output_type": "stream",
     "text": [
      "100\n"
     ]
    }
   ],
   "source": [
    "square = lambda x:x**2\n",
    "print(square(10))"
   ]
  },
  {
   "cell_type": "code",
   "execution_count": 3,
   "id": "1ddb5406-3d9c-48a8-ab14-81d57151737b",
   "metadata": {
    "tags": []
   },
   "outputs": [
    {
     "name": "stdout",
     "output_type": "stream",
     "text": [
      "500\n",
      "10\n"
     ]
    }
   ],
   "source": [
    "product = lambda x,y:x*y\n",
    "print(product(50,10))\n",
    "larger = lambda x,y:x if x>y else y\n",
    "print(larger(10,5))"
   ]
  },
  {
   "cell_type": "code",
   "execution_count": 6,
   "id": "8aea1b96-0d96-4a95-9d67-a664aeb49e95",
   "metadata": {
    "tags": []
   },
   "outputs": [
    {
     "name": "stdout",
     "output_type": "stream",
     "text": [
      "[('water', 30), ('ice cream', 50), ('bike', 20000)]\n"
     ]
    }
   ],
   "source": [
    "price = {\n",
    "    ('ice cream',50),\n",
    "    ('bike',20000),\n",
    "    ('water',30),\n",
    "}\n",
    "sorted_price = sorted(price,key=lambda x:x[1])\n",
    "print(sorted_price)"
   ]
  },
  {
   "cell_type": "code",
   "execution_count": 9,
   "id": "a84539e0-9147-4129-9e8c-7002be70af63",
   "metadata": {
    "tags": []
   },
   "outputs": [
    {
     "name": "stdout",
     "output_type": "stream",
     "text": [
      "25\n"
     ]
    }
   ],
   "source": [
    "def func(b):\n",
    "    return lambda x:2*x+b\n",
    "linear = func(5)\n",
    "print(linear(10))"
   ]
  },
  {
   "cell_type": "markdown",
   "id": "2e8439b9-5a67-4bb3-845a-895b6864e957",
   "metadata": {},
   "source": [
    "## 參數解包 / 打開\n"
   ]
  },
  {
   "cell_type": "code",
   "execution_count": 12,
   "id": "4c2636c7-7b8a-4cf7-8d96-7abf698f4598",
   "metadata": {
    "tags": []
   },
   "outputs": [
    {
     "name": "stdout",
     "output_type": "stream",
     "text": [
      "[5, 4, 3]\n",
      "5 4 3\n"
     ]
    }
   ],
   "source": [
    "print([5,4,3])\n",
    "print(*[5,4,3])"
   ]
  },
  {
   "cell_type": "code",
   "execution_count": 13,
   "id": "533be6e3-54c5-4182-8ffe-d665960dfbf4",
   "metadata": {
    "collapsed": true,
    "jupyter": {
     "outputs_hidden": true
    },
    "tags": []
   },
   "outputs": [
    {
     "ename": "SyntaxError",
     "evalue": "illegal target for annotation (3249656499.py, line 1)",
     "output_type": "error",
     "traceback": [
      "\u001b[1;36m  Cell \u001b[1;32mIn[13], line 1\u001b[1;36m\u001b[0m\n\u001b[1;33m    zip(x,y) : x = (3,4,5), y = (2,8,1)\u001b[0m\n\u001b[1;37m    ^\u001b[0m\n\u001b[1;31mSyntaxError\u001b[0m\u001b[1;31m:\u001b[0m illegal target for annotation\n"
     ]
    }
   ],
   "source": [
    "zip(x,y) : x = (3,4,5), y = (2,8,1) #(3,2),(4,8),(5,1)"
   ]
  },
  {
   "cell_type": "code",
   "execution_count": 18,
   "id": "3195f45f-bdcd-489c-9dfa-4e9aa00f75f4",
   "metadata": {
    "tags": []
   },
   "outputs": [
    {
     "name": "stdout",
     "output_type": "stream",
     "text": [
      "[(0, 3), (1, 4), (2, 5)]\n",
      "<enumerate object at 0x0000024DAF612CA0>\n"
     ]
    }
   ],
   "source": [
    "print(list(enumerate((3,4,5))))\n",
    "print(enumerate([3,4,5]))"
   ]
  },
  {
   "cell_type": "markdown",
   "id": "45f02b34-bf7c-4833-843b-f2adf78a12cc",
   "metadata": {},
   "source": [
    "## 生成器\n",
    "節省記憶體空間\n"
   ]
  },
  {
   "cell_type": "code",
   "execution_count": null,
   "id": "296a7338-4f60-405c-bd59-0c65a8355d8c",
   "metadata": {
    "tags": []
   },
   "outputs": [],
   "source": [
    "my_list = [x*x for x in range(100000000000)] #龐大計算\n",
    "for i in my_list:\n",
    "    print(i)"
   ]
  },
  {
   "cell_type": "code",
   "execution_count": null,
   "id": "2e69daf8-03be-45b2-a5b9-a7a3a390cafb",
   "metadata": {
    "tags": []
   },
   "outputs": [],
   "source": [
    "g = (x*x for x in range(10))\n",
    "print(g)\n",
    "print(next(g))\n",
    "for i in g:\n",
    "    print(i)"
   ]
  },
  {
   "cell_type": "code",
   "execution_count": null,
   "id": "480c2191-921d-4475-a79b-bcb5950e4000",
   "metadata": {
    "tags": []
   },
   "outputs": [],
   "source": [
    "def test():\n",
    "    a = 5\n",
    "    yield a\n",
    "    yield a + 1\n",
    "    yield a + 2\n",
    "g = test()\n",
    "print(next(g))\n",
    "print(next(g))\n",
    "print(next(g))"
   ]
  },
  {
   "cell_type": "code",
   "execution_count": null,
   "id": "a1dc4aef-879a-4942-be1f-57ce583b22c1",
   "metadata": {},
   "outputs": [],
   "source": []
  }
 ],
 "metadata": {
  "kernelspec": {
   "display_name": "Python 3 (ipykernel)",
   "language": "python",
   "name": "python3"
  },
  "language_info": {
   "codemirror_mode": {
    "name": "ipython",
    "version": 3
   },
   "file_extension": ".py",
   "mimetype": "text/x-python",
   "name": "python",
   "nbconvert_exporter": "python",
   "pygments_lexer": "ipython3",
   "version": "3.11.5"
  }
 },
 "nbformat": 4,
 "nbformat_minor": 5
}
