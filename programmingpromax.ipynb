{
 "cells": [
  {
   "cell_type": "code",
   "execution_count": null,
   "id": "87e20e61-173c-45f3-83ea-a37c04f2ee51",
   "metadata": {},
   "outputs": [],
   "source": [
    "class frame : #創建類別\n",
    "    def __init__(self): #初始化\n",
    "        print(\"\")\n",
    "    def prin(self): #創建方法\n",
    "        print(\"\")\n",
    "\n",
    "frame = frame1() #創建物件\n",
    "frame.prin() #使用方法"
   ]
  },
  {
   "cell_type": "code",
   "execution_count": null,
   "id": "e2d73560-4213-4a5f-831a-468e88bfab0e",
   "metadata": {
    "tags": []
   },
   "outputs": [],
   "source": [
    "class other:\n",
    "    def other2(): #self : 沒有self代表other不屬於other class\n",
    "        print(\"hello world\")\n",
    "\n",
    "o = other()\n",
    "o.other2()"
   ]
  },
  {
   "cell_type": "code",
   "execution_count": null,
   "id": "a5172613-e098-458d-b39d-abf0215c0322",
   "metadata": {
    "collapsed": true,
    "jupyter": {
     "outputs_hidden": true
    },
    "tags": []
   },
   "outputs": [],
   "source": [
    "class student:\n",
    "    student_num = 0 #不希望能用類別改此變數\n",
    "    def __init__(self):\n",
    "        student_num += 1 #student.student_num += 1\n",
    "    def student_show(self):\n",
    "        print(student_sum) #print(student.student_num)\n",
    "        \n",
    "s1 = student()"
   ]
  },
  {
   "cell_type": "code",
   "execution_count": null,
   "id": "649f31e7-3bd2-463a-b0d7-a46e17fd58ad",
   "metadata": {
    "tags": []
   },
   "outputs": [],
   "source": [
    "class student:\n",
    "    student_num = 0 \n",
    "    def __init__(self):\n",
    "        self.__class__.student_num += 1 #self.__class__.<該物件屬性> 更改類別屬性\n",
    "        self.student_show()\n",
    "    def student_show(self):\n",
    "        print(self.__class__.student_num)\n",
    "        \n",
    "s1 = student()"
   ]
  },
  {
   "cell_type": "markdown",
   "id": "6bb653b4-fbf5-48fb-a1fb-5f041386f234",
   "metadata": {
    "tags": []
   },
   "source": [
    "## 父類別、子類別"
   ]
  },
  {
   "cell_type": "code",
   "execution_count": null,
   "id": "b497573c-fb71-47bd-9529-61dc72e9d5dc",
   "metadata": {},
   "outputs": [],
   "source": [
    "class BaseClassName():\n",
    "    父類別屬性方法\n",
    "class childClassName(BaseVlassName): #繼承父類別屬性和方法\n",
    "    子類別屬性方法"
   ]
  },
  {
   "cell_type": "code",
   "execution_count": null,
   "id": "ae74bfc7-e6a9-439e-8aab-bc9c91930465",
   "metadata": {
    "tags": []
   },
   "outputs": [],
   "source": [
    "class animal(): #父類別\n",
    "    def __init__(self,name):\n",
    "        self.name = name\n",
    "    def fly(self):\n",
    "        print(self.name + (\"很會飛\"))\n",
    "class bird(animal): #子類別\n",
    "    def __init__(self,name): #覆寫父類別的建構式\n",
    "        self.name = \"粉紅色\" + name\n",
    "    def sing(self):\n",
    "        print(self.name+\"也愛唱歌\")\n",
    "\n",
    "pig = animal(\"豬\")\n",
    "pig.fly()\n",
    "\n",
    "parrot = bird(\"小鸚鵡\")\n",
    "parrot.fly()\n",
    "parrot.sing()"
   ]
  },
  {
   "cell_type": "code",
   "execution_count": null,
   "id": "451575da-82f7-4013-b8ec-7e022a99689e",
   "metadata": {
    "tags": []
   },
   "outputs": [],
   "source": [
    "class father():\n",
    "    def __init__(self):\n",
    "        self.__address = \"台中市\" #__代表父類別屬性公開\n",
    "    def datareturn(self):\n",
    "        return self.__address\n",
    "class son(father):\n",
    "    pass\n",
    "hung = father()\n",
    "ivan = son()\n",
    "print(\"父類別\" + hung.datareturn())\n",
    "print(\"子類別\" + ivan.datareturn())"
   ]
  },
  {
   "cell_type": "markdown",
   "id": "f822b291-491f-4af0-bc8a-3bb64999e177",
   "metadata": {},
   "source": [
    "## 模組&套件"
   ]
  },
  {
   "cell_type": "code",
   "execution_count": null,
   "id": "2cdf7c16-76ac-4994-86c8-88cb895063c4",
   "metadata": {
    "collapsed": true,
    "jupyter": {
     "outputs_hidden": true
    },
    "tags": []
   },
   "outputs": [],
   "source": [
    "#檔案名 makefood.py\n",
    "def make_icecream(*toppings):\n",
    "    print(\"這個冰淇淋所加配料如下\")\n",
    "    for topping in toppings:\n",
    "        print(\"--\",topping)\n",
    "        \n",
    "def make_drink(size,drink):\n",
    "    print(\"所點飲料如下\")\n",
    "    print(\"--\",size.title())\n",
    "    print(\"--\",drink.title())\n",
    "\n",
    "make_icecream(\"草莓醬\")\n",
    "make_icecream(\"草莓醬\",\"葡萄乾\",\"巧克力碎片\")\n",
    "make_drink('large','coke')"
   ]
  },
  {
   "cell_type": "code",
   "execution_count": null,
   "id": "e4541441-2db2-40ce-9db0-2d7e85e3a0c6",
   "metadata": {},
   "outputs": [],
   "source": [
    "import makefood # 載入所有函數到記憶體"
   ]
  },
  {
   "cell_type": "code",
   "execution_count": null,
   "id": "a38d63fd-6fa1-41e5-b084-88ca8b96967a",
   "metadata": {},
   "outputs": [],
   "source": [
    "from makefood import make_icecream , make_drink , * # 只載入指定函數 , * = 所有函數"
   ]
  },
  {
   "cell_type": "code",
   "execution_count": null,
   "id": "b7b657ac-fa3b-4b61-a083-7e8f57f3f6d9",
   "metadata": {},
   "outputs": [],
   "source": [
    "from makefood import make_icecream as mkice # 給指定函數替換名稱"
   ]
  },
  {
   "cell_type": "code",
   "execution_count": null,
   "id": "f4234c5c-f821-4b33-98c6-93783db5e2fa",
   "metadata": {},
   "outputs": [],
   "source": [
    "import 1,2,3\n",
    "__all__ = [\"1\",\"2\"] # 沒有3,代表不能使用3這個函數"
   ]
  },
  {
   "cell_type": "markdown",
   "id": "9402a857-2a77-4d21-b09a-c3b03c0cca70",
   "metadata": {},
   "source": [
    "## 例外處理"
   ]
  },
  {
   "cell_type": "code",
   "execution_count": null,
   "id": "655c0528-7c1f-48eb-8924-5c2698d927c8",
   "metadata": {},
   "outputs": [],
   "source": [
    "try:\n",
    "    # 指令\n",
    "except #異常物件:\n",
    "    #異常處理程序\n",
    "else:\n",
    "    #正確處理程序"
   ]
  },
  {
   "cell_type": "code",
   "execution_count": null,
   "id": "d934f53c-4da5-44ac-8154-939f5be7ecbd",
   "metadata": {
    "tags": []
   },
   "outputs": [],
   "source": [
    "def division(x,y):\n",
    "    try:\n",
    "        ans = x / y\n",
    "    except ZeroDivisionError:\n",
    "        print(\"除數不可為0\")\n",
    "    else:\n",
    "        return ans\n",
    "print(division(10,2))\n",
    "print(division(5,0))\n",
    "print(division(6,3))"
   ]
  },
  {
   "cell_type": "code",
   "execution_count": null,
   "id": "a9ec2e9b-f482-4fb2-a279-d3f2eeb66b27",
   "metadata": {},
   "outputs": [],
   "source": [
    "# 捕捉多個異常\n",
    "try:\n",
    "    指令\n",
    "except 異常物件:\n",
    "    異常處理程序\n",
    "except 異常物件2:\n",
    "    異常處理程序2\n",
    "    \n",
    "or\n",
    "\n",
    "try:\n",
    "    指令\n",
    "except (異常物件1,異常物件2:)\n",
    "    異常處理程序"
   ]
  },
  {
   "cell_type": "code",
   "execution_count": null,
   "id": "54a956f0-5c16-4a82-a19a-c367b9db678a",
   "metadata": {
    "tags": []
   },
   "outputs": [],
   "source": [
    "def division(x,y):\n",
    "    try:\n",
    "        return x / y\n",
    "    except ZeroDivisionError:\n",
    "        print(\"除數為0發生\")\n",
    "    except TypeError:\n",
    "        print(\"使用字元做除法運算異常\")\n",
    "print(division(10,2))\n",
    "print(division(5,0))\n",
    "print(division('a','b'))\n",
    "print(division(6,3))"
   ]
  },
  {
   "cell_type": "code",
   "execution_count": null,
   "id": "9e17a1d2-3513-4c3f-87f9-675b12623a1a",
   "metadata": {},
   "outputs": [],
   "source": [
    "# 印出oython內建錯誤訊息\n",
    "except 異常 as e:\n",
    "    print(e)\n",
    "\n",
    "# 捕捉所有異常\n",
    "except:\n",
    "    異常處理程序\n",
    "#不論是否有異常，一定執行finally (須放在excepy,else後面)\n",
    "except:\n",
    "    ...\n",
    "else:\n",
    "    ...\n",
    "finally:\n",
    "    ...\n",
    "raise Exception(\"\") #自定義例外\n",
    "assert 條件,參數 # 若條件錯誤印出AssertError\n"
   ]
  },
  {
   "cell_type": "markdown",
   "id": "09128d1e-69d6-4288-8cc0-e08d3531d9b1",
   "metadata": {},
   "source": [
    "## 函數是物件的一種"
   ]
  },
  {
   "cell_type": "code",
   "execution_count": null,
   "id": "60ea3244-99e5-4675-994c-a80576190f83",
   "metadata": {
    "collapsed": true,
    "jupyter": {
     "outputs_hidden": true
    },
    "tags": []
   },
   "outputs": [],
   "source": [
    "def upperStr(text):\n",
    "    return text.upper() #字母轉大寫\n",
    "\n",
    "print(upperStr('Hello World'))\n",
    "upper = upperStr\n",
    "print(upper('Hello World'))"
   ]
  },
  {
   "cell_type": "code",
   "execution_count": null,
   "id": "e13f2c22-aef9-4494-92aa-e052f6e9fb74",
   "metadata": {
    "collapsed": true,
    "jupyter": {
     "outputs_hidden": true
    },
    "tags": []
   },
   "outputs": [],
   "source": [
    "def cool_func():\n",
    "    print('cool_func(): Supper Cool')\n",
    "if __name__ == '__main__': # 當cool_func是模組時且被import時，將cool_func的主程式執行\n",
    "    print('call it locally')\n",
    "    cool_func()"
   ]
  },
  {
   "cell_type": "markdown",
   "id": "723abc43-5c8b-493b-8e46-d544c7c5d73a",
   "metadata": {},
   "source": [
    "## 函數是串列的元素"
   ]
  },
  {
   "cell_type": "code",
   "execution_count": null,
   "id": "06e47ae6-d56c-4597-9c9a-fd2928479e8a",
   "metadata": {
    "tags": []
   },
   "outputs": [],
   "source": [
    "def total(data):\n",
    "    return sum(data)\n",
    "x = (1,5,10)\n",
    "mylist = [min,max,sum,total]\n",
    "for f in mylist:\n",
    "    print(f,f(x))"
   ]
  },
  {
   "cell_type": "markdown",
   "id": "06ee9636-859d-401f-b223-f2e2b938eeb8",
   "metadata": {},
   "source": [
    "## 函數可以當作參數\n"
   ]
  },
  {
   "cell_type": "code",
   "execution_count": null,
   "id": "65defb27-ea55-44fa-8626-71353933360a",
   "metadata": {
    "tags": []
   },
   "outputs": [],
   "source": [
    "def add(x,y):\n",
    "    return x + y\n",
    "def mul(x,y):\n",
    "    return x*y\n",
    "def running(func,arg1,arg2):\n",
    "    return func(arg1,arg2)\n",
    "result1 = running(add,5,10)\n",
    "print(result1)\n",
    "result2 = running(mul,5,10)\n",
    "print(result2)"
   ]
  },
  {
   "cell_type": "markdown",
   "id": "27cc7dbb-87ba-4bac-8da7-fd6777a19cff",
   "metadata": {},
   "source": [
    "## 巢狀函數"
   ]
  },
  {
   "cell_type": "code",
   "execution_count": null,
   "id": "b10b3b2d-1c5d-4b75-8aae-550f9a97a10e",
   "metadata": {
    "tags": []
   },
   "outputs": [],
   "source": [
    "def my_mean(input_list):\n",
    "    def my_sum(input_list):\n",
    "        temp_sum = 0\n",
    "        for i in input_list:\n",
    "            temp_sum += 1\n",
    "            return temp_sum\n",
    "    def my_length(input_list):\n",
    "        temp_length = 0\n",
    "        for i in input_list:\n",
    "            temp_length += 1\n",
    "            return temp_length\n",
    "    return my_sum(input_list) / my_length(input_list)\n",
    "my_list = [51,8,18,13,6,64]\n",
    "print(my_mean(my_list))\n"
   ]
  },
  {
   "cell_type": "markdown",
   "id": "9c790936-77aa-4b62-b2a4-402824093d65",
   "metadata": {},
   "source": [
    "## 區域變數/全域變數\n"
   ]
  },
  {
   "cell_type": "code",
   "execution_count": null,
   "id": "3eb21899-7027-4fe7-a22b-8040cd125570",
   "metadata": {},
   "outputs": [],
   "source": [
    "global #切換為全域變數\n",
    "nonlocal #非全域也非區域"
   ]
  },
  {
   "cell_type": "markdown",
   "id": "61210969-986f-4b63-a90a-b4f868d0b117",
   "metadata": {},
   "source": [
    "## lambda 匿名函數\n",
    "使用時機 : 節省記憶體,簡潔\n"
   ]
  },
  {
   "cell_type": "code",
   "execution_count": null,
   "id": "9949554d-2f80-4bfd-9f4b-d308e5577f4c",
   "metadata": {
    "tags": []
   },
   "outputs": [],
   "source": [
    "square = lambda x:x**2\n",
    "print(square(10))"
   ]
  },
  {
   "cell_type": "code",
   "execution_count": 36,
   "id": "1ddb5406-3d9c-48a8-ab14-81d57151737b",
   "metadata": {
    "tags": []
   },
   "outputs": [
    {
     "name": "stdout",
     "output_type": "stream",
     "text": [
      "500\n",
      "10\n"
     ]
    }
   ],
   "source": [
    "product = lambda x,y:x*y\n",
    "print(product(50,10))\n",
    "larger = lambda x,y:x if x>y else y\n",
    "print(larger(10,5))"
   ]
  },
  {
   "cell_type": "code",
   "execution_count": null,
   "id": "8aea1b96-0d96-4a95-9d67-a664aeb49e95",
   "metadata": {
    "tags": []
   },
   "outputs": [],
   "source": [
    "price = {\n",
    "    ('ice cream',50),\n",
    "    ('bike',20000),\n",
    "    ('water',30),\n",
    "}\n",
    "sorted_price = sorted(price,key=lambda x:x[1])\n",
    "print(sorted_price)"
   ]
  },
  {
   "cell_type": "code",
   "execution_count": null,
   "id": "a84539e0-9147-4129-9e8c-7002be70af63",
   "metadata": {
    "tags": []
   },
   "outputs": [],
   "source": [
    "def func(b):\n",
    "    return lambda x:2*x+b\n",
    "linear = func(5)\n",
    "print(linear(10))"
   ]
  },
  {
   "cell_type": "markdown",
   "id": "2e8439b9-5a67-4bb3-845a-895b6864e957",
   "metadata": {},
   "source": [
    "## 參數解包 / 打開\n"
   ]
  },
  {
   "cell_type": "code",
   "execution_count": null,
   "id": "4c2636c7-7b8a-4cf7-8d96-7abf698f4598",
   "metadata": {
    "tags": []
   },
   "outputs": [],
   "source": [
    "print([5,4,3])\n",
    "print(*[5,4,3])"
   ]
  },
  {
   "cell_type": "code",
   "execution_count": null,
   "id": "533be6e3-54c5-4182-8ffe-d665960dfbf4",
   "metadata": {
    "collapsed": true,
    "jupyter": {
     "outputs_hidden": true
    },
    "tags": []
   },
   "outputs": [],
   "source": [
    "zip(x,y) : x = (3,4,5), y = (2,8,1) #(3,2),(4,8),(5,1)"
   ]
  },
  {
   "cell_type": "code",
   "execution_count": null,
   "id": "3195f45f-bdcd-489c-9dfa-4e9aa00f75f4",
   "metadata": {
    "tags": []
   },
   "outputs": [],
   "source": [
    "print(list(enumerate((3,4,5))))\n",
    "print(enumerate([3,4,5]))"
   ]
  },
  {
   "cell_type": "markdown",
   "id": "45f02b34-bf7c-4833-843b-f2adf78a12cc",
   "metadata": {},
   "source": [
    "## 生成器\n",
    "節省記憶體空間\n"
   ]
  },
  {
   "cell_type": "code",
   "execution_count": null,
   "id": "296a7338-4f60-405c-bd59-0c65a8355d8c",
   "metadata": {
    "tags": []
   },
   "outputs": [],
   "source": [
    "my_list = [x*x for x in range(100000000000)] #龐大計算\n",
    "for i in my_list:\n",
    "    print(i)"
   ]
  },
  {
   "cell_type": "code",
   "execution_count": null,
   "id": "2e69daf8-03be-45b2-a5b9-a7a3a390cafb",
   "metadata": {
    "tags": []
   },
   "outputs": [],
   "source": [
    "g = (x*x for x in range(10))\n",
    "print(g)\n",
    "print(next(g))\n",
    "for i in g:\n",
    "    print(i)"
   ]
  },
  {
   "cell_type": "code",
   "execution_count": null,
   "id": "480c2191-921d-4475-a79b-bcb5950e4000",
   "metadata": {
    "tags": []
   },
   "outputs": [],
   "source": [
    "def test():\n",
    "    a = 5\n",
    "    yield a\n",
    "    yield a + 1\n",
    "    yield a + 2\n",
    "g = test()\n",
    "print(next(g))\n",
    "print(next(g))\n",
    "print(next(g))"
   ]
  },
  {
   "cell_type": "markdown",
   "id": "dc7a0391-aa87-42e9-839c-73e9d9a05050",
   "metadata": {},
   "source": [
    "## 裝飾器"
   ]
  },
  {
   "cell_type": "code",
   "execution_count": null,
   "id": "1d5c224a-11c9-49ab-91c4-3918f35bd955",
   "metadata": {
    "tags": []
   },
   "outputs": [],
   "source": [
    "def greet(word):\n",
    "    return word\n",
    "def upper(func): #全大寫\n",
    "    return func.upper()\n",
    "print(upper(greet('hello world')))"
   ]
  },
  {
   "cell_type": "code",
   "execution_count": null,
   "id": "dfd3ba52-d952-47a9-adcb-c5dc61f01265",
   "metadata": {
    "tags": []
   },
   "outputs": [],
   "source": [
    "def Mr(name):\n",
    "    print('Mr',name+'.')\n",
    "def welcome(func):\n",
    "    print('good morning',end=' ')\n",
    "    return func\n",
    "greeting = welcome(Mr)\n",
    "greeting('john')"
   ]
  },
  {
   "cell_type": "code",
   "execution_count": null,
   "id": "acfface6-d781-4b46-af2c-edd93d4b22ed",
   "metadata": {
    "tags": []
   },
   "outputs": [],
   "source": [
    "def welcome(func):\n",
    "    print('good morning',end=' ')\n",
    "    return func\n",
    "@welcome #裝飾器函數\n",
    "def Mr(name):\n",
    "    print('Mr.',name+'.')\n",
    "Mr('John')"
   ]
  },
  {
   "cell_type": "markdown",
   "id": "fcd83d90-cbe3-4f51-a638-f046c2655775",
   "metadata": {},
   "source": [
    "## 語法糖 @"
   ]
  },
  {
   "cell_type": "code",
   "execution_count": null,
   "id": "6886704e-7d5e-4cdf-8ab2-5278606e2385",
   "metadata": {
    "tags": []
   },
   "outputs": [],
   "source": [
    "print('a'*20)\n",
    "print('aaaaaaaaaaaaaaaaaaaa')"
   ]
  },
  {
   "cell_type": "markdown",
   "id": "2b64f8bf-91db-40b4-be99-c22127e3c1b6",
   "metadata": {},
   "source": [
    "# 爬蟲"
   ]
  },
  {
   "cell_type": "markdown",
   "id": "0353482f-bcd0-4001-a78c-5bb7d3ecfb62",
   "metadata": {},
   "source": [
    "#### 打開網站"
   ]
  },
  {
   "cell_type": "code",
   "execution_count": null,
   "id": "ffb9f88f-b805-401f-9e2c-76fb402235bc",
   "metadata": {
    "tags": []
   },
   "outputs": [],
   "source": [
    "import webbrowser\n",
    "webbrowser.open(\"google.com\")"
   ]
  },
  {
   "cell_type": "markdown",
   "id": "656e80d9-2615-434e-a42a-e4c7971a852f",
   "metadata": {},
   "source": [
    "#### 儲存下載的網頁"
   ]
  },
  {
   "cell_type": "code",
   "execution_count": null,
   "id": "1894ac49-a824-4712-9e99-8cbf4df84648",
   "metadata": {
    "tags": []
   },
   "outputs": [],
   "source": [
    "import requests\n",
    "\n",
    "url = 'https://deepmind.com.tw'\n",
    "try:\n",
    "    response = requests.get(url)\n",
    "    print(\"download complete\")\n",
    "except Exception as err:\n",
    "    print(\"download error\")\n",
    "\n",
    "fn = 'out3_14.txt'\n",
    "with open(fn,'wb') as file_Obj:\n",
    "    for diskStorage in response.iter_content(40960):\n",
    "        size = file_Obj.write(diskStorage)\n",
    "        print(size)\n",
    "    print('儲存成功')"
   ]
  },
  {
   "cell_type": "markdown",
   "id": "5848976d-7857-4e04-99f4-874e95ec11bf",
   "metadata": {},
   "source": [
    "### requests\n"
   ]
  },
  {
   "cell_type": "code",
   "execution_count": null,
   "id": "5546ee1d-288d-4890-9476-0345a0845788",
   "metadata": {
    "tags": []
   },
   "outputs": [],
   "source": [
    "import requests\n",
    "\n",
    "url = 'https://google.com'\n",
    "response = requests.get(url)\n",
    "if response.status_code == requests.codes.ok: #如果response.status_code == requests.codes.ok,表示獲得網頁成功\n",
    "    print(\"ready\")\n",
    "    print(\"url message : \",response.url)\n",
    "    print('表頭訊息 : ',response.headers)\n",
    "    print(\"cookie message : \",response.cookies) #網站伺服器送回的cookie訊息\n",
    "else :\n",
    "    print(\"error\")"
   ]
  },
  {
   "cell_type": "code",
   "execution_count": null,
   "id": "81ac7167-d5f3-4541-a561-c0a31605429f",
   "metadata": {
    "tags": []
   },
   "outputs": [],
   "source": [
    "import requests\n",
    "\n",
    "url = 'https://google.com'\n",
    "response = requests.get(url)\n",
    "if response.status_code == requests.codes.ok:\n",
    "    print('ready')\n",
    "    print('網頁大小 : ',len(response.text))\n",
    "else : \n",
    "    print('error')"
   ]
  },
  {
   "cell_type": "markdown",
   "id": "a158edb8-2c93-4d83-af52-5562a465d462",
   "metadata": {},
   "source": [
    "### 搜尋特定網頁"
   ]
  },
  {
   "cell_type": "code",
   "execution_count": null,
   "id": "e2656506-2c9d-4321-9920-52103417f26a",
   "metadata": {
    "tags": []
   },
   "outputs": [],
   "source": [
    "import requests\n",
    "import re\n",
    "\n",
    "url = 'https://google.com'\n",
    "response = requests.get(url)\n",
    "if response.status_code == requests.codes.ok:\n",
    "    pattern = input('輸入欲搜尋字串:')\n",
    "    \n",
    "    #使用方法1\n",
    "    if pattern in response.text:\n",
    "        print('搜尋%s成功'%pattern)\n",
    "    else:\n",
    "        print('搜尋%s失敗'%pattern)\n",
    "    #使用方法2\n",
    "    name = re.findall(pattern,response.text) #計算pattern有出現幾次\n",
    "    if name != None:\n",
    "        print('%s出現%d次'%(pattern,len(name)))\n",
    "    else:\n",
    "        print('%s出現0次'%pattern)\n",
    "else:\n",
    "    print('網頁下載失敗')"
   ]
  },
  {
   "cell_type": "code",
   "execution_count": null,
   "id": "3fc16e1e-27cf-4618-bb02-ba33d1755365",
   "metadata": {
    "tags": []
   },
   "outputs": [],
   "source": [
    "i = 'usa china canada india taiwan'\n",
    "sum = re.findall('a',i)\n",
    "print(len(sum))"
   ]
  },
  {
   "cell_type": "markdown",
   "id": "a0607004-652d-42f3-ab46-2a833c1010d6",
   "metadata": {},
   "source": [
    "### 檢查爬蟲錯誤\n",
    "400 : Client端請求訊息不正確  \n",
    "401 : Client端請求訊息不被授權  \n",
    "402 : Client端完成請瘸必須有回應  \n",
    "403 : Client端被禁止使用此資源  \n",
    "404 : Client端請求的資源不存在  \n",
    "405 : Client端請求的資源的方法不被許可  \n",
    "406 : Client端不被接受"
   ]
  },
  {
   "cell_type": "code",
   "execution_count": null,
   "id": "c3c6fa49-20a5-45fa-8c7d-8e28c96c4d91",
   "metadata": {
    "tags": []
   },
   "outputs": [],
   "source": [
    "import requests \n",
    "\n",
    "url = 'http://www.mcut.edu.tw/file_not_existed'\n",
    "response = requests.get(url)\n",
    "try:\n",
    "    response.raise_for_status()\n",
    "    print('ready')\n",
    "except Exception as err:\n",
    "    print('failed:%s'%err)\n",
    "print('end')\n",
    "# 4xx error: 客戶端可能發生錯誤，妨礙了伺服器的處理\n",
    "# 5xx error: 伺服器在處理請求的過程中有錯誤或者異常狀態發生"
   ]
  },
  {
   "cell_type": "code",
   "execution_count": null,
   "id": "fcee91a9-041c-47f4-8d61-4aac17e78cb9",
   "metadata": {
    "collapsed": true,
    "jupyter": {
     "outputs_hidden": true
    },
    "tags": []
   },
   "outputs": [],
   "source": [
    "import requests\n",
    "url = 'http://www.gzaxxc.com/file_not_existed' #錯誤網址\n",
    "response = requests.get(url)\n",
    "try:\n",
    "    response.raise_for_status()\n",
    "    print('ready')\n",
    "except Exception as err:\n",
    "    print('error with:%s'%err)\n",
    "print('end')"
   ]
  },
  {
   "cell_type": "code",
   "execution_count": null,
   "id": "b37d93e5-a31e-4260-9414-0430db3f3c11",
   "metadata": {
    "tags": []
   },
   "outputs": [],
   "source": [
    "import requests\n",
    "url = 'http://www.gzaxxc.com/file_not_existed'\n",
    "try:\n",
    "    response = requests.get(url)\n",
    "    print('ready')\n",
    "except Exception as err:\n",
    "    print('html error with:%s'%err)\n",
    "print('end')"
   ]
  },
  {
   "cell_type": "code",
   "execution_count": null,
   "id": "d62467fe-8937-4897-bff2-0d73d0066b78",
   "metadata": {
    "tags": []
   },
   "outputs": [],
   "source": [
    "import requests\n",
    "url = 'http://aaa.24ht.com.tw/'\n",
    "response = requests.get(url)\n",
    "response.raise_for_status()"
   ]
  },
  {
   "cell_type": "code",
   "execution_count": null,
   "id": "9eae63c5-3884-4f48-9945-26eb1ef48819",
   "metadata": {
    "collapsed": true,
    "jupyter": {
     "outputs_hidden": true
    },
    "tags": []
   },
   "outputs": [],
   "source": [
    "import requests\n",
    "\n",
    "url = 'http://www.kingstone.com.tw/basic/2013120599512?zone=book&lid=search&actid=WISE'\n",
    "response = requests.get(url)\n",
    "response.raise_for_status()"
   ]
  },
  {
   "cell_type": "markdown",
   "id": "7fcca4cb-b9e4-4b26-922b-17d0dc39d9aa",
   "metadata": {},
   "source": [
    "### 爬蟲程式偽裝成瀏覽器\n",
    "解決爬蟲程式被伺服器阻擋的困擾，可以將設計的爬蟲程式偽裝成瀏覽器，方法是在程式前端加上表頭內容  \n",
    "主要在'User-Agent'欄位\n",
    "User-Agent欄位是瀏覽器或網路爬蟲向網站表明身分"
   ]
  },
  {
   "cell_type": "code",
   "execution_count": null,
   "id": "e08bb6e3-aeee-49a2-80c3-a06ead699e57",
   "metadata": {
    "tags": []
   },
   "outputs": [],
   "source": [
    "import requests\n",
    "\n",
    "headers = {'User-Agent':'Mpzilla/5.0(Windows NT 6.1;WOW64)\\AppleWebkit/537.36(KHTML,like Gecko)Chrome/45.0.2454.101\\Safari/537.36'}\n",
    "url = 'http://www.kingstone.com.tw/basic/2013120599512?zone=book&lid=search&actid=WISE'\n",
    "response = requests.get(url,headers=headers)\n",
    "response.raise_for_status()\n",
    "print('ready')"
   ]
  },
  {
   "cell_type": "markdown",
   "id": "8b806a80-f9d9-47d9-8b23-e87cc5240df0",
   "metadata": {},
   "source": [
    "### robot.txt\n",
    "- robot.txt是一個儲存在網站根目錄下的文字格式檔案，統一小寫  \n",
    "- User-agent : 定義下述規則對哪些搜尋引擎或爬蟲生效  \n",
    "- Disallow : 指定哪些目錄獲檔案類型不想被檢索，需指名路徑，否則會忽略  \n",
    "- Allow : 指定哪些目錄獲檔案類型可以被檢索，需指名路徑，否則會忽略  \n",
    "- Sitemap : 指定網站內的sitemap檔案放置位置，需使用絕對路徑"
   ]
  },
  {
   "cell_type": "code",
   "execution_count": null,
   "id": "4c55419e",
   "metadata": {},
   "outputs": [],
   "source": [
    "import requests\n",
    "\n",
    "url = 'http://deepmind.com.tw'\n",
    "try:\n",
    "    response = requests.get(url)\n",
    "    print('download ready')\n",
    "except Exception as err:\n",
    "    print('donwload error:%s'%err)\n",
    "\n",
    "fn = 'out_14.txt'\n",
    "with open(fn,'wb') as file_Obj:\n",
    "    for diskStorage in response.iter_content(40960):\n",
    "        size = file_Obj.write(diskStorage)\n",
    "        print(size)\n",
    "    print('以%s儲存網頁HTML檔案成功'%fn)"
   ]
  },
  {
   "cell_type": "markdown",
   "id": "2769dd81",
   "metadata": {},
   "source": [
    "### Response常見欄位"
   ]
  },
  {
   "cell_type": "markdown",
   "id": "cda9aaf4",
   "metadata": {},
   "source": [
    "- cache-controls : 在requests和response表頭都有的欄位，(ex:cache資料有效時間)，包含指令控制瀏覽器的cache與共享的cache\n",
    "- content-encoding : 資料內容的編碼方式\n",
    "- content-type : 回傳資料的型態 (text/html、text/plain、/multupart/form-data;boundary = something)\n",
    "- data : 回應訊行產生的日期時間\n",
    "- server : 網頁伺服器的類型\n"
   ]
  },
  {
   "cell_type": "markdown",
   "id": "2d8c7fac-9d91-4aef-9261-76b2f5ea72ab",
   "metadata": {},
   "source": [
    "## Beautifulsoup4\n"
   ]
  },
  {
   "cell_type": "markdown",
   "id": "c0f00072",
   "metadata": {},
   "source": [
    "###### 將解析的文件傳給BeautifulSoup建構子，會得到一個BeautifulSoup物件，可以用文字或file handler的方式傳遞參數\n"
   ]
  },
  {
   "cell_type": "code",
   "execution_count": null,
   "id": "af3b485e-1462-4485-b3b7-d0a23f25f936",
   "metadata": {},
   "outputs": [],
   "source": [
    "from bs4 import BeautifulSoup\n",
    "\n",
    "with open('index.html') as fp:\n",
    "    soup = BeautifulSoup(fp)\n",
    "    \n",
    "or\n",
    "soup = BeautifulSoup('<html>data<html>')\n",
    "or\n",
    "\n",
    "soup = BeautifulSoup('<html>data<html>','html.parser') #python內建\n",
    "soup = BeautifulSoup('xxx原始碼','xml') #速度快，唯一支持XML解析器\n",
    "soup = BeautifulSoup('<html>data<html>',\"lmxl\") # 可以自動修正html"
   ]
  },
  {
   "cell_type": "markdown",
   "id": "2c94486a-4536-41d3-922c-3192e6902513",
   "metadata": {},
   "source": [
    "#### 建立BeautifulSoup物件\n"
   ]
  },
  {
   "cell_type": "code",
   "execution_count": null,
   "id": "8cbcde37-8a14-46a9-a16a-f2fbf1eaca49",
   "metadata": {},
   "outputs": [],
   "source": [
    "import requests,bs4\n",
    "response = requests.get('http://deepmind.com.tw')\n",
    "objSoup = bs4.BeautifulSoup(response.text,'lxml')\n",
    "print('列印BeautifulSoup物件資料型態',type(objSoup))"
   ]
  },
  {
   "cell_type": "code",
   "execution_count": null,
   "id": "e0c013d5",
   "metadata": {},
   "outputs": [],
   "source": [
    "import bs4,requests\n",
    "response = requests.get('http://google.com')\n",
    "obj = bs4.BeautifulSoup(response.text,'lxml')\n",
    "print(obj.title)"
   ]
  },
  {
   "cell_type": "code",
   "execution_count": null,
   "id": "2cb02704",
   "metadata": {},
   "outputs": [],
   "source": [
    "import bs4,requests\n",
    "response = requests.get('http://google.com')\n",
    "obj = bs4.BeautifulSoup(response.text,'lxml')\n",
    "print(obj.p)\n",
    "print(obj.img)\n",
    "print(obj.img.name)\n",
    "print(type(obj.p))\n"
   ]
  },
  {
   "cell_type": "code",
   "execution_count": 3,
   "id": "1fbe6bde",
   "metadata": {},
   "outputs": [
    {
     "name": "stdout",
     "output_type": "stream",
     "text": [
      "資料型態 =  <class 'bs4.element.ResultSet'>\n",
      "列印Tag串列 =  [<h1 id=\"author\">洪xx</h1>, <h1 id=\"content\">一個人的旅行</h1>, <h1 id=\"content\">html5+CSS3王者歸來</h1>]\n",
      "以下是列印串列元素:\n",
      "洪xx\n",
      "一個人的旅行\n",
      "html5+CSS3王者歸來\n"
     ]
    }
   ],
   "source": [
    "import bs4,requests\n",
    "# response = requests.get('http://google.com')\n",
    "response = open('mysite.html',encoding='utf-8')\n",
    "objSoup = bs4.BeautifulSoup(response,'lxml')\n",
    "objTag = objSoup.find_all('h1')\n",
    "print('資料型態 = ',type(objTag))\n",
    "print('列印Tag串列 = ',objTag)\n",
    "print('以下是列印串列元素:')\n",
    "for data in objTag:\n",
    "    print(data.text)"
   ]
  },
  {
   "cell_type": "code",
   "execution_count": 5,
   "id": "a25e6214",
   "metadata": {},
   "outputs": [
    {
     "name": "stdout",
     "output_type": "stream",
     "text": [
      "洪xx\n",
      "一個人的旅行\n"
     ]
    }
   ],
   "source": [
    "import bs4\n",
    "response = open('mysite.html',encoding='utf-8')\n",
    "objSoup = bs4.BeautifulSoup(response,'lxml')\n",
    "objTag = objSoup.find_all('h1',limit=2)\n",
    "for data in objTag:\n",
    "    print(data.text)"
   ]
  },
  {
   "cell_type": "code",
   "execution_count": 13,
   "id": "416a44b3",
   "metadata": {},
   "outputs": [
    {
     "name": "stdout",
     "output_type": "stream",
     "text": [
      "<class 'bs4.element.ResultSet'>\n",
      "[<h1 id=\"author\">洪xx</h1>, <h1 id=\"content\">一個人的旅行</h1>, <h1 id=\"content\">html5+CSS3王者歸來</h1>]\n",
      "使用text屬性列印串列的元素:\n",
      "洪xx\n",
      "一個人的旅行\n",
      "html5+CSS3王者歸來\n",
      "使用getText()方法來列印串列元素:\n",
      "洪xx\n",
      "一個人的旅行\n",
      "html5+CSS3王者歸來\n"
     ]
    }
   ],
   "source": [
    "import bs4\n",
    "response = open('mysite.html',encoding='utf-8')\n",
    "objSoup = bs4.BeautifulSoup(response,'lxml')\n",
    "objTag = objSoup.find_all('h1')\n",
    "print(type(objTag))\n",
    "print(objTag)\n",
    "print('使用text屬性列印串列的元素:')\n",
    "for data in objTag:\n",
    "    print(data.text)\n",
    "print('使用getText()方法來列印串列元素:')\n",
    "for data in objTag:\n",
    "    print(data.get_text())"
   ]
  },
  {
   "cell_type": "code",
   "execution_count": 15,
   "id": "83c89764",
   "metadata": {},
   "outputs": [
    {
     "name": "stdout",
     "output_type": "stream",
     "text": [
      "[<h1 id=\"content\">一個人的旅行</h1>, <h1 id=\"content\">html5+CSS3王者歸來</h1>]\n",
      "一個人的旅行\n",
      "html5+CSS3王者歸來\n"
     ]
    }
   ],
   "source": [
    "import bs4\n",
    "response = open('mysite.html',encoding='utf-8')\n",
    "objSoup = bs4.BeautifulSoup(response,'lxml')\n",
    "objTag = objSoup.find_all(id = 'content')\n",
    "print(objTag)\n",
    "for data in objTag:\n",
    "    print(data.text)"
   ]
  },
  {
   "cell_type": "code",
   "execution_count": 35,
   "id": "09e5f8fe",
   "metadata": {},
   "outputs": [
    {
     "name": "stdout",
     "output_type": "stream",
     "text": [
      "2\n",
      "洪xx\n",
      "test\n"
     ]
    }
   ],
   "source": [
    "import bs4\n",
    "response = open('mysite.html',encoding='utf-8')\n",
    "objSoup = bs4.BeautifulSoup(response,'lxml')\n",
    "objSelect = objSoup.select('#author')\n",
    "print(len(objSelect))\n",
    "for i in objSelect:\n",
    "    print(i.text)"
   ]
  },
  {
   "cell_type": "code",
   "execution_count": 5,
   "id": "6b4a370b",
   "metadata": {},
   "outputs": [
    {
     "name": "stdout",
     "output_type": "stream",
     "text": [
      "台灣最健康大學排名\n",
      "明志科大\n",
      "台灣體院\n",
      "台北體院\n"
     ]
    }
   ],
   "source": [
    "import bs4\n",
    "response = open('mysite2.html',encoding='utf-8')\n",
    "objSoup = bs4.BeautifulSoup(response,'lxml')\n",
    "objTap = objSoup.find_all('h2')\n",
    "print(objTap[2].text)\n",
    "objTap2 = objSoup.find('ol',type = 'I')\n",
    "objTap3 = objTap2.find_all('li')\n",
    "for i in objTap3:\n",
    "    print(i.text)"
   ]
  },
  {
   "cell_type": "code",
   "execution_count": 17,
   "id": "b5af7a6f",
   "metadata": {},
   "outputs": [
    {
     "name": "stdout",
     "output_type": "stream",
     "text": [
      "首都 =  ['washington', 'tokyo', 'paris']\n",
      "國家 =  ['美國首都', '日本首都', '法國首都']\n"
     ]
    }
   ],
   "source": [
    "import bs4\n",
    "response = open('mysite3.html',encoding='utf-8')\n",
    "objSoup = bs4.BeautifulSoup(response,'lxml')\n",
    "objcountry = objSoup.find_all('dd')\n",
    "country = []\n",
    "for i in objcountry:\n",
    "    country.append(i.text)\n",
    "objcity = objSoup.find_all('dt')\n",
    "city = []\n",
    "for i in objcity:\n",
    "    city.append(i.text)\n",
    "\n",
    "print('國家 = ',country)\n",
    "print('首都 = ',city)\n"
   ]
  },
  {
   "cell_type": "code",
   "execution_count": null,
   "id": "0b6ac127",
   "metadata": {},
   "outputs": [],
   "source": []
  }
 ],
 "metadata": {
  "kernelspec": {
   "display_name": "Python 3 (ipykernel)",
   "language": "python",
   "name": "python3"
  },
  "language_info": {
   "codemirror_mode": {
    "name": "ipython",
    "version": 3
   },
   "file_extension": ".py",
   "mimetype": "text/x-python",
   "name": "python",
   "nbconvert_exporter": "python",
   "pygments_lexer": "ipython3",
   "version": "3.7.2"
  }
 },
 "nbformat": 4,
 "nbformat_minor": 5
}
